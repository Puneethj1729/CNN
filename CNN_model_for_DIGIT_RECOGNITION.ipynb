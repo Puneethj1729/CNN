{
 "cells": [
  {
   "cell_type": "code",
   "execution_count": 3,
   "metadata": {
    "scrolled": false
   },
   "outputs": [
    {
     "name": "stdout",
     "output_type": "stream",
     "text": [
      "Train on 60000 samples\n",
      "Epoch 1/10\n",
      "60000/60000 [==============================] - 16s 263us/sample - loss: 0.2066 - accuracy: 0.9388\n",
      "Epoch 2/10\n",
      "60000/60000 [==============================] - 16s 265us/sample - loss: 0.0823 - accuracy: 0.9753\n",
      "Epoch 3/10\n",
      "60000/60000 [==============================] - 16s 265us/sample - loss: 0.0584 - accuracy: 0.9818\n",
      "Epoch 4/10\n",
      "60000/60000 [==============================] - 16s 266us/sample - loss: 0.0440 - accuracy: 0.9856\n",
      "Epoch 5/10\n",
      "60000/60000 [==============================] - 16s 272us/sample - loss: 0.0364 - accuracy: 0.9879\n",
      "Epoch 6/10\n",
      "60000/60000 [==============================] - 16s 272us/sample - loss: 0.0281 - accuracy: 0.9909\n",
      "Epoch 7/10\n",
      "60000/60000 [==============================] - 17s 275us/sample - loss: 0.0250 - accuracy: 0.9918\n",
      "Epoch 8/10\n",
      "60000/60000 [==============================] - 17s 277us/sample - loss: 0.0212 - accuracy: 0.9928\n",
      "Epoch 9/10\n",
      "60000/60000 [==============================] - 17s 276us/sample - loss: 0.0197 - accuracy: 0.9933\n",
      "Epoch 10/10\n",
      "60000/60000 [==============================] - 16s 273us/sample - loss: 0.0177 - accuracy: 0.9941\n",
      "10000/10000 [==============================] - 1s 81us/sample - loss: 0.0641 - accuracy: 0.9860\n",
      "6\n"
     ]
    },
    {
     "data": {
      "image/png": "[encoded data removed]",
      "text/plain": [
       "<Figure size 432x288 with 1 Axes>"
      ]
     },
     "metadata": {
      "needs_background": "light"
     },
     "output_type": "display_data"
    }
   ],
   "source": [
    "import tensorflow as tf\n",
    "import numpy as np\n",
    "from tensorflow.keras.models import Sequential\n",
    "from tensorflow.keras.layers import Dense, Conv2D, Dropout, Flatten, MaxPooling2D\n",
    "import matplotlib.pyplot as plt\n",
    "(x_train, y_train), (x_test, y_test) = tf.keras.datasets.mnist.load_data()\n",
    "x_train = x_train.reshape(x_train.shape[0], 28, 28, 1)\n",
    "x_test = x_test.reshape(x_test.shape[0], 28, 28, 1)\n",
    "input_shape = (28, 28, 1)\n",
    "x_train = x_train.astype('float32')\n",
    "x_test = x_test.astype('float32')\n",
    "x_train /= 255\n",
    "x_test /= 255\n",
    "model = Sequential()\n",
    "model.add(Conv2D(28, kernel_size=(3,3), input_shape=input_shape))\n",
    "model.add(MaxPooling2D(pool_size=(2, 2)))\n",
    "model.add(Flatten())\n",
    "model.add(Dense(128, activation=tf.nn.relu))\n",
    "model.add(Dropout(0.2))\n",
    "model.add(Dense(10,activation=tf.nn.softmax))\n",
    "model.compile(optimizer='adam', loss='sparse_categorical_crossentropy', metrics=['accuracy'])\n",
    "model.fit(x=x_train,y=y_train, epochs=10)\n",
    "model.evaluate(x_test, y_test)\n",
    "image_index = 9999\n",
    "plt.imshow(x_test[image_index].reshape(28, 28),cmap='Greys')\n",
    "predict = x_test[image_index].reshape(28,28)\n",
    "pred = model.predict(x_test[image_index].reshape(1, 28, 28, 1))\n",
    "print(pred.argmax())"
   ]
  },
  {
   "cell_type": "code",
   "execution_count": null,
   "metadata": {},
   "outputs": [],
   "source": []
  }
 ],
 "metadata": {
  "kernelspec": {
   "display_name": "Python 2",
   "language": "python",
   "name": "python2"
  },
  "language_info": {
   "codemirror_mode": {
    "name": "ipython",
    "version": 2
   },
   "file_extension": ".py",
   "mimetype": "text/x-python",
   "name": "python",
   "nbconvert_exporter": "python",
   "pygments_lexer": "ipython2",
   "version": "2.7.17"
  }
 },
 "nbformat": 4,
 "nbformat_minor": 2
}
